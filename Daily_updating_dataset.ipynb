{
 "cells": [
  {
   "cell_type": "code",
   "execution_count": 1,
   "id": "7b938f53",
   "metadata": {},
   "outputs": [],
   "source": [
    "import pandas as pd\n",
    "import random\n",
    "from datetime import date,datetime"
   ]
  },
  {
   "cell_type": "code",
   "execution_count": 2,
   "id": "5fdfefcc",
   "metadata": {},
   "outputs": [],
   "source": [
    "url = 'https://raw.githubusercontent.com/quantumsnowball/toy-datasets-collections/master/titanic/titanic.csv'\n",
    "df = pd.read_csv(url)"
   ]
  },
  {
   "cell_type": "code",
   "execution_count": 3,
   "id": "9e7428bf",
   "metadata": {},
   "outputs": [],
   "source": [
    "def swapPositions(lst, pos1, pos2):\n",
    "     \n",
    "    lst[pos1], lst[pos2] = lst[pos2], lst[pos1]\n",
    "    return lst"
   ]
  },
  {
   "cell_type": "code",
   "execution_count": 4,
   "id": "6708fe3e",
   "metadata": {},
   "outputs": [
    {
     "data": {
      "text/plain": [
       "['06', '01', '2022']"
      ]
     },
     "execution_count": 4,
     "metadata": {},
     "output_type": "execute_result"
    }
   ],
   "source": [
    "today = date.today()\n",
    "today_list = str(today).split('-')\n",
    "today_list.reverse()\n",
    "swapPositions(today_list,0,1)"
   ]
  },
  {
   "cell_type": "code",
   "execution_count": 5,
   "id": "99e7096a",
   "metadata": {},
   "outputs": [],
   "source": [
    "file_name_today = '_'.join(today_list)\n",
    "file_name = file_name_today + '_' + str(60*round(float(str(datetime.now().time()).split(':')[0])) + round(float(str(datetime.now().time()).split(':')[1])))+ \"_df.csv\""
   ]
  },
  {
   "cell_type": "code",
   "execution_count": 6,
   "id": "c40f4eb6",
   "metadata": {},
   "outputs": [
    {
     "data": {
      "text/plain": [
       "'06_01_2022_1333_df.csv'"
      ]
     },
     "execution_count": 6,
     "metadata": {},
     "output_type": "execute_result"
    }
   ],
   "source": [
    "file_name"
   ]
  },
  {
   "cell_type": "code",
   "execution_count": 7,
   "id": "bd85f0ff",
   "metadata": {},
   "outputs": [],
   "source": [
    "df.to_csv(file_name,index = False)"
   ]
  }
 ],
 "metadata": {
  "kernelspec": {
   "display_name": "Python 3 (ipykernel)",
   "language": "python",
   "name": "python3"
  },
  "language_info": {
   "codemirror_mode": {
    "name": "ipython",
    "version": 3
   },
   "file_extension": ".py",
   "mimetype": "text/x-python",
   "name": "python",
   "nbconvert_exporter": "python",
   "pygments_lexer": "ipython3",
   "version": "3.9.7"
  }
 },
 "nbformat": 4,
 "nbformat_minor": 5
}
